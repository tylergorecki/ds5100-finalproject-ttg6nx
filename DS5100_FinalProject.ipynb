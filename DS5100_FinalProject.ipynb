{
 "cells": [
  {
   "cell_type": "markdown",
   "id": "45762487-d33f-486d-8e38-2cdea04e3528",
   "metadata": {},
   "source": [
    "# Final Project Report\n",
    "\n",
    "* Class: DS 5100\n",
    "* Student Name: Tyler Gorecki\n",
    "* Student Net ID: ttg6nx\n",
    "* This URL: https://github.com/tylergorecki/ds5100-finalproject-ttg6nx/blob/main/DS5100_FinalProject.ipynb"
   ]
  },
  {
   "cell_type": "markdown",
   "id": "acf756c1-ecaa-41dc-b6ca-d566eb94560b",
   "metadata": {},
   "source": [
    "# Instructions\n",
    "\n",
    "Follow the instructions in the Final Project isntructions notebook and put evidence of your work in this notebook.\n",
    "\n",
    "Total points for each subsection under **Deliverables** and **Scenarios** are given in parentheses.\n",
    "\n",
    "Breakdowns of points within subsections are specified within subsection instructions as bulleted lists.\n",
    "\n",
    "This project is worth **50 points**."
   ]
  },
  {
   "cell_type": "markdown",
   "id": "89dc7a32-f682-4402-8c1e-b6ccdb3e0e39",
   "metadata": {},
   "source": [
    "# Deliverables"
   ]
  },
  {
   "cell_type": "markdown",
   "id": "d32cb273-9a40-4909-a7ce-51f6e4958d3c",
   "metadata": {},
   "source": [
    "## The Monte Carlo Module (10)\n",
    "\n",
    "- URL included, appropriately named (1).\n",
    "- Includes all three specified classes (3).\n",
    "- Includes at least all 12 specified methods (6; .5 each)."
   ]
  },
  {
   "cell_type": "markdown",
   "id": "f5f3b070-de9e-4de9-bfae-8974d184aa28",
   "metadata": {},
   "source": [
    "Put the URL to your GitHub repo here.\n",
    "\n",
    "Repo URL: https://github.com/tylergorecki/ds5100-finalproject-ttg6nx"
   ]
  },
  {
   "cell_type": "markdown",
   "id": "162370fb-3729-4c85-b040-8c25b2c966d2",
   "metadata": {},
   "source": [
    "Paste a copy of your module here.\n",
    "\n",
    "NOTE: Paste as text, not as code. Use triple backticks to wrap your code blocks."
   ]
  },
  {
   "cell_type": "code",
   "execution_count": 10,
   "id": "a0743efc-a785-4b5c-a9e6-b65d4507a67f",
   "metadata": {},
   "outputs": [
    {
     "data": {
      "text/plain": [
       "'\\nimport numpy as np\\nimport pandas as pd\\n\\nclass Die:\\n    \"\"\"\\n    A Die is an object with N sides (\\'faces\\') and W weights and can be rolled to select \\n    a face. By default, each of the sides have a weight of 1, but that can be changed using \\n    a method in this class to adjust individual sides. Each side is unique and the Die object \\n    can be rolled one or more times, resulting in a single face for each roll. \\n    \"\"\"\\n\\n    def __init__(self, face_values):\\n        \"\"\"\\n        Initializes a Die object and saves the faces and weights of the Die in a private data \\n        frame with faces as the index. \\n\\n        Parameters\\n        ----------\\n        face_values : must be a numpy array of all unique values\\n\\n        Returns\\n        -------\\n        None\\n\\n        Raises\\n        ------\\n        TypeError\\n            when face_values input is not a numpy array\\n        ValueError\\n            when face_values input does not have all unique values\\n        \"\"\"\\n    \\n        if type(face_values) != type(np.array(1)):\\n            raise TypeError(\"Faces is not a numpy array\")\\n        \\n        if len(face_values) != len(np.unique(face_values)):\\n            raise ValueError(\"Faces does not have all unique values\")\\n        \\n        self._die = pd.DataFrame(data = {\\n            \\'face\\': face_values, \\n            \\'weight\\': np.ones(len(face_values))\\n        }).set_index(\\'face\\')\\n        \\n    def change_weight(self, face, new_val):\\n        \"\"\"\\n        This method changes the weight of a single side. It takes a face and a numeric value \\n        as inputs, saving that face\\'s new weight value in the Die\\'s private data frame. \\n\\n        Parameters\\n        ----------\\n        face : face value (side) of the Die to be changed\\n        new_val : new weight value for that face, must be numeric or castable to numeric\\n\\n        Returns\\n        -------\\n        None\\n\\n        Raises\\n        ------\\n        IndexError\\n            when face argument is not a face value in the current Die object\\n        TypeError\\n            when new_val input is not a numeric or a string castable to numeric\\n        \"\"\"\\n\\n        if face not in self._die.index:\\n            raise IndexError(\"Face value not in die array\")\\n        \\n        if type(new_val) not in [int, float]:\\n            try:\\n                new_val = float(new_val)\\n            except:\\n                raise TypeError(\"The new value is not numeric or castable as numeric\")\\n\\n        \\n        self._die.loc[face] = new_val\\n\\n    def roll(self, rolls = 1):\\n        \"\"\"\\n        Rolls the Die one or more times. Randomly samples n (number of rolls input) times \\n        and returns the face results of the rolls as a list. \\n\\n        Parameters\\n        ----------\\n        rolls : default is 1, indicates the number of rolls to sample from the Die object\\n\\n        Returns\\n        -------\\n        List of face outputs that result from the random sampling of the Die object. \\n        \"\"\"\\n\\n        weights = self._die.weight/sum(self._die.weight)\\n\\n        return list(np.random.choice(\\n            a = self._die.index, \\n            size = rolls, \\n            p = weights\\n        ))\\n\\n    def current_die_state(self):\\n        \"\"\"\\n        Shows the Die object\\'s current state by returning a copy of the private die data frame. \\n\\n        Parameters\\n        ----------\\n        None\\n\\n        Returns\\n        -------\\n        The private data frame containing face values and weights for each face of the Die object. \\n        \"\"\"\\n\\n        return self._die.copy()\\n\\n\\nclass Game:\\n    \"\"\"\\n    A Game object consists of rolling one or more similar Die objects one or more times. \\n    The dice should be similar, meaning they have the same number of sides and associated \\n    faces, and Game objects only keep the results of their most recent play. \\n    \"\"\"\\n\\n    def __init__(self, dice):\\n        \"\"\"\\n        Initializes a Game object, created from a list of similar dice. The dice should \\n        have the same faces. \\n\\n        Parameters\\n        ----------\\n        dice : must be a list of already instantiated similar dice\\n\\n        Returns\\n        -------\\n        None\\n        \"\"\"\\n\\n        self.dice = dice\\n\\n    def play(self, rolls):\\n        \"\"\"\\n        This method takes an integer parameter to specify the number of times the dice \\n        should be rolled. These values are then saved in a private data frame in wide \\n        format. The roll number is named index starting with 0 and each die index is the \\n        column name, with the values being faces rolled for each instance. \\n\\n        Parameters\\n        ----------\\n        rolls : number of rolls to perform on each Die object within the Game object\\n\\n        Returns\\n        -------\\n        None\\n        \"\"\"\\n\\n        self._play_dice = pd.DataFrame({\\n            die_num : die_obj.roll(rolls) for die_num, die_obj in enumerate(self.dice)\\n        })\\n\\n    def show_recent_play(self, df_form = \\'wide\\'):\\n        \"\"\"\\n        Returns a copy of the private data frame created by the play function to the user. \\n        Takes a parameter that controls whether the data frame is returned in narrow or \\n        wide form. \\n\\n        Parameters\\n        ----------\\n        df_form : must be a string value in {\\'narrow\\', \\'wide\\'}, default is \\'wide\\'\\n\\n        Returns\\n        -------\\n        Narrow or wide formed data frame consisting of the data from the most recent play \\n        function call by the Game object\\n\\n        Raises\\n        ------\\n        ValueError\\n            when df_form input is not one of \\'narrow\\' or \\'wide\\'\\n        \"\"\"\\n\\n        if df_form not in [\\'wide\\', \\'narrow\\']:\\n            raise ValueError(\"Form invalid, input must be \\'narrow\\' or \\'wide\\'\")\\n\\n        if df_form == \\'wide\\':\\n            return self._play_dice.copy()\\n        else:\\n            return self._play_dice.stack().to_frame(\\'Outcome\\').rename_axis([\\'Roll\\', \\'Die\\'])\\n\\n\\nclass Analyzer:\\n    \"\"\"\\n    An Analyzer object takes the result of a Game object and computes various descriptive \\n    statistical properties about it. \\n    \"\"\"\\n\\n    def __init__(self, game):\\n        \"\"\"\\n        Initializes an Analyzer object from a Game object input. \\n\\n        Parameters\\n        ----------\\n        game : must be a Game object\\n\\n        Returns\\n        -------\\n        None\\n\\n        Raises\\n        ------\\n        ValueError\\n            when input parameter is not a Game object\\n        \"\"\"\\n\\n        if type(game) != Game:\\n            raise ValueError(\"Input parameter is not a game object\")\\n\\n        self.game = game\\n\\n    def jackpot(self):\\n        \"\"\"\\n        A jackpot is a result in which all faces are the same for every roll of an individual \\n        die. This method computes how many times this occurs among the dice in the game. \\n\\n        Parameters\\n        ----------\\n        None\\n\\n        Returns\\n        -------\\n        An integer for the number of jackpots. \\n        \"\"\"\\n\\n        df = self.game.show_recent_play()\\n\\n        return sum(df.nunique(axis = 0) == 1)\\n\\n    def face_counts_per_roll(self):\\n        \"\"\"\\n        Computes the number of times each face is rolled in each event, returning a data \\n        frame of the results. \\n\\n        Parameters\\n        ----------\\n        None\\n\\n        Returns\\n        -------\\n        Data frame in wide format containing roll number as index, face values as columns, \\n        and count values in the cells. \\n        \"\"\"\\n\\n        df = self.game.show_recent_play()\\n\\n        return df.apply(pd.Series.value_counts, axis = 1).fillna(0).astype(int)\\n\\n    def combo_count(self):\\n        \"\"\"\\n        Computes the distinct combinations of faces rolled and their counts. Here, the order \\n        does not matter. The method returns a data frame of the results. \\n\\n        Parameters\\n        ----------\\n        None\\n\\n        Returns\\n        -------\\n        Data frame with a MultiIndex of distinct combinations and a column for the associated \\n        counts values. \\n        \"\"\"\\n        \\n        df = self.game.show_recent_play()\\n        new_df = pd.DataFrame([sorted(df.iloc[x]) for x in range(len(df))])\\n        cols = list(new_df.columns)\\n\\n        return new_df.groupby(cols).size().reset_index(name = \\'Count\\').set_index(cols)\\n\\n    def permutation_count(self):\\n        \"\"\"\\n        Computes the distinct permutations of faces rolled and their counts. Here, the order \\n        does matter. The method returns a data frame of the results. \\n        \\n\\n        Parameters\\n        ----------\\n        None\\n\\n        Returns\\n        -------\\n        Data frame with a MultiIndex of distinct permutations and a column for the associated \\n        count values. \\n        \"\"\"\\n\\n        df = self.game.show_recent_play()\\n        cols = list(df.columns)\\n\\n        return df.groupby(cols).size().reset_index(name = \\'Count\\').set_index(cols)\\n'"
      ]
     },
     "execution_count": 10,
     "metadata": {},
     "output_type": "execute_result"
    }
   ],
   "source": []
  },
  {
   "cell_type": "markdown",
   "id": "6377727a-8f0a-491e-9f1c-d9dc225edd35",
   "metadata": {},
   "source": [
    "## Unitest Module (2)\n",
    "\n",
    "Paste a copy of your test module below.\n",
    "\n",
    "NOTE: Paste as text, not as code. Use triple backticks to wrap your code blocks.\n",
    "\n",
    "- All methods have at least one test method (1).\n",
    "- Each method employs one of Unittest's Assert methods (1)."
   ]
  },
  {
   "cell_type": "code",
   "execution_count": 11,
   "id": "14b878d8-258b-4cf2-ad88-b8ee90d43977",
   "metadata": {},
   "outputs": [
    {
     "data": {
      "text/plain": [
       "\"\\nfrom montecarlo.montecarlo import Die, Game, Analyzer\\nimport unittest\\nimport numpy as np\\nimport pandas as pd\\n\\nclass MontecarloTest(unittest.TestCase):\\n\\n    def test_die_init(self):\\n        die1 = Die(np.array(['A','B','C']))\\n\\n        self.assertTrue(all(die1.current_die_state().weight == 1))\\n\\n    def test_die_change_weight(self):\\n        die1 = Die(np.array(['A','B','C']))\\n        die1.change_weight('B',2)\\n\\n        actual = die1.current_die_state().loc['B'].weight\\n        expected = 2\\n\\n        self.assertEqual(actual, expected)\\n\\n    def test_die_roll(self):\\n        die1 = Die(np.array(['A','B','C']))\\n\\n        self.assertTrue(type(die1.roll(10)) == list)\\n\\n    def test_die_state(self):\\n        die1 = Die(np.array(['A','B','C']))\\n        actual = list(die1.current_die_state().index)\\n        expected = ['A','B','C']\\n\\n        self.assertEqual(actual, expected)\\n\\n    def test_game_init(self):\\n        die1 = Die(np.array(['A','B','C']))\\n        die2 = Die(np.array(['A','B','C']))\\n        die3 = Die(np.array(['A','B','C']))\\n        game = Game([die1, die2, die3])\\n\\n        self.assertEqual(die1, game.dice[0])\\n\\n    def test_game_play(self):\\n        die1 = Die(np.array(['A','B','C']))\\n        die2 = Die(np.array(['A','B','C']))\\n        die3 = Die(np.array(['A','B','C']))\\n        game = Game([die1, die2, die3])\\n\\n        game.play(5)\\n        recent_game = game.show_recent_play()\\n\\n        actual = recent_game.shape[0]\\n        expected = 5\\n\\n        self.assertEqual(actual, expected)\\n\\n    def test_game_show_play(self):\\n        die1 = Die(np.array(['A','B','C']))\\n        die2 = Die(np.array(['A','B','C']))\\n        die3 = Die(np.array(['A','B','C']))\\n        game = Game([die1, die2, die3])\\n\\n        game.play(5)\\n        recent_game = game.show_recent_play('narrow')\\n\\n        self.assertTrue(type(recent_game.index) == pd.MultiIndex)\\n\\n    def test_analyzer_init(self):\\n        die1 = Die(np.array(['A','B','C']))\\n        die2 = Die(np.array(['A','B','C']))\\n        die3 = Die(np.array(['A','B','C']))\\n        game = Game([die1, die2, die3])\\n\\n        game.play(5)\\n        analyzer1 = Analyzer(game)\\n\\n        self.assertTrue(type(analyzer1.face_counts_per_roll()) == pd.DataFrame)\\n\\n    def test_analyzer_jackpot(self):\\n        die1 = Die(np.array(['A','B','C']))\\n        die2 = Die(np.array(['A','B','C']))\\n        die3 = Die(np.array(['A','B','C']))\\n        game = Game([die1, die2, die3])\\n\\n        game._play_dice = pd.DataFrame({\\n            0: ['A','A','A'], \\n            1: ['A','B','C'], \\n            2: ['B','B','B']\\n        })\\n\\n        analyzer = Analyzer(game)\\n        actual = analyzer.jackpot()\\n        expected = 2\\n        self.assertEqual(actual, expected)\\n\\n    def test_analyzer_face_counts_per_roll(self):\\n        die1 = Die(np.array(['A','B','C']))\\n        die2 = Die(np.array(['A','B','C']))\\n        die3 = Die(np.array(['A','B','C']))\\n        game = Game([die1, die2, die3])\\n\\n        game._play_dice = pd.DataFrame({\\n            0: ['A','A','A'], \\n            1: ['A','B','C'], \\n            2: ['B','B','B']\\n        })\\n\\n        analyzer = Analyzer(game)\\n        actual = list(analyzer.face_counts_per_roll().loc[2])\\n        expected = [1,1,1]\\n        self.assertEqual(actual, expected)\\n\\n\\n    def test_analyzer_combo_count(self):\\n        die1 = Die(np.array(['A','B','C']))\\n        die2 = Die(np.array(['A','B','C']))\\n        die3 = Die(np.array(['A','B','C']))\\n        game = Game([die1, die2, die3])\\n\\n        game._play_dice = pd.DataFrame({\\n            0: ['B','A','B'], \\n            1: ['A','B','C'], \\n            2: ['B','B','B']\\n        })\\n\\n        analyzer = Analyzer(game)\\n        actual = analyzer.combo_count()\\n\\n        expected = pd.DataFrame({\\n            'Count':[2,1]\\n        }, index=pd.MultiIndex.from_tuples([('A','B','B'), ('B','B','C')], names=[0,1,2]))\\n\\n        self.assertEqual(actual.shape, expected.shape)\\n\\n\\n    def test_analyzer_permutation_count(self):\\n        die1 = Die(np.array(['A','B','C']))\\n        die2 = Die(np.array(['A','B','C']))\\n        die3 = Die(np.array(['A','B','C']))\\n        game = Game([die1, die2, die3])\\n\\n        game._play_dice = pd.DataFrame({\\n            0: ['C','A','A'], \\n            1: ['C','B','B'], \\n            2: ['B','B','B']\\n        })\\n\\n        analyzer = Analyzer(game)\\n        actual = list(analyzer.permutation_count()['Count'])\\n        expected = [2,1]\\n\\n        self.assertEqual(actual, expected)\\n\\nif __name__ == '__main__':\\n    unittest.main(verbosity=3)\\n\""
      ]
     },
     "execution_count": 11,
     "metadata": {},
     "output_type": "execute_result"
    }
   ],
   "source": []
  },
  {
   "cell_type": "markdown",
   "id": "3e058d03-29bc-408f-b36d-0605b4f4b8c0",
   "metadata": {
    "tags": []
   },
   "source": [
    "## Unittest Results (3)\n",
    "\n",
    "Put a copy of the results of running your tests from the command line here.\n",
    "\n",
    "Again, paste as text using triple backticks.\n",
    "\n",
    "- All 12 specified methods return OK (3; .25 each)."
   ]
  },
  {
   "cell_type": "code",
   "execution_count": null,
   "id": "ca3b8677",
   "metadata": {},
   "outputs": [],
   "source": []
  },
  {
   "cell_type": "markdown",
   "id": "d9ffe8c5-eb2f-4ad1-af76-a46550e4c7ac",
   "metadata": {},
   "source": [
    "## Import (1)\n",
    "\n",
    "Import your module here. This import should refer to the code in your package directory.\n",
    "\n",
    "- Module successuflly imported (1)."
   ]
  },
  {
   "cell_type": "code",
   "execution_count": 14,
   "id": "a05dffb3-e6d6-4f78-9df4-5abd0cf74ca9",
   "metadata": {
    "tags": []
   },
   "outputs": [],
   "source": [
    "# e.g. import montecarlo.montecarlo\n",
    "import montecarlo\n",
    "from montecarlo.montecarlo import Die, Game, Analyzer"
   ]
  },
  {
   "cell_type": "markdown",
   "id": "f30c4842-65b1-4556-98b6-3fe1a07e1371",
   "metadata": {},
   "source": [
    "## Help Docs (4)\n",
    "\n",
    "Show your docstring documentation by applying `help()` to your imported module.\n",
    "\n",
    "- All methods have a docstring (3; .25 each).\n",
    "- All classes have a docstring (1; .33 each)."
   ]
  },
  {
   "cell_type": "code",
   "execution_count": 13,
   "id": "bf4fbf1f-9885-471c-a0a6-e9ca90e160de",
   "metadata": {
    "tags": []
   },
   "outputs": [
    {
     "name": "stdout",
     "output_type": "stream",
     "text": [
      "Help on package montecarlo:\n",
      "\n",
      "NAME\n",
      "    montecarlo - #import montecarlo\n",
      "\n",
      "PACKAGE CONTENTS\n",
      "    montecarlo\n",
      "\n",
      "FILE\n",
      "    /Users/tylergorecki/Desktop/DS 5100/ds5100-finalproject-ttg6nx/montecarlo/__init__.py\n",
      "\n",
      "\n"
     ]
    }
   ],
   "source": [
    "help(montecarlo)"
   ]
  },
  {
   "cell_type": "markdown",
   "id": "a9defa84-b395-4966-bd1c-5c6c2bb7ed68",
   "metadata": {},
   "source": [
    "## `README.md` File (3)\n",
    "\n",
    "Provide link to the README.md file of your project's repo.\n",
    "\n",
    "- Metadata section or info present (1).\n",
    "- Synopsis section showing how each class is called (1). (All must be included.)\n",
    "- API section listing all classes and methods (1). (All must be included.)"
   ]
  },
  {
   "cell_type": "markdown",
   "id": "ee090b33-d593-48a0-bf35-e739cea0942c",
   "metadata": {},
   "source": [
    "URL: https://github.com/tylergorecki/ds5100-finalproject-ttg6nx/blob/main/README.md"
   ]
  },
  {
   "cell_type": "markdown",
   "id": "108604c8-8827-42ef-ab59-6b25428fc0ca",
   "metadata": {},
   "source": [
    "## Successful installation (2)\n",
    "\n",
    "Put a screenshot or paste a copy of a terminal session where you successfully install your module with pip.\n",
    "\n",
    "If pasting text, use a preformatted text block to show the results.\n",
    "\n",
    "- Installed with `pip` (1).\n",
    "- Successfully installed message appears (1)."
   ]
  },
  {
   "cell_type": "raw",
   "id": "1278db6a-aa53-4e5c-a749-93a87ab239e0",
   "metadata": {
    "vscode": {
     "languageId": "raw"
    }
   },
   "source": [
    "Ran in terminal: \n",
    "    pip install -e .\n",
    "Output: \n",
    "    Obtaining file:///Users/tylergorecki/Desktop/DS%205100/ds5100-finalproject-ttg6nx\n",
    "    Preparing metadata (setup.py) ... done\n",
    "    Installing collected packages: montecarlo\n",
    "    Attempting uninstall: montecarlo\n",
    "    Found existing installation: montecarlo 1.0.0\n",
    "    Uninstalling montecarlo-1.0.0:\n",
    "    Successfully uninstalled montecarlo-1.0.0\n",
    "    Running setup.py develop for montecarlo\n",
    "    Successfully installed montecarlo-1.0.0"
   ]
  },
  {
   "cell_type": "markdown",
   "id": "7c44695d-d1b3-4edf-9f94-e64d7446f199",
   "metadata": {},
   "source": [
    "# Scenarios\n",
    "\n",
    "Use code blocks to perform the tasks for each scenario.\n",
    "\n",
    "Be sure the outputs are visible before submitting."
   ]
  },
  {
   "cell_type": "markdown",
   "id": "e2479eae-6fc9-44cd-b8d7-9b22cb501f2a",
   "metadata": {
    "jp-MarkdownHeadingCollapsed": true,
    "tags": []
   },
   "source": [
    "## Scenario 1: A 2-headed Coin (9)\n",
    "\n",
    "Task 1. Create a fair coin (with faces $H$ and $T$) and one unfair coin in which one of the faces has a weight of $5$ and the others $1$.\n",
    "\n",
    "- Fair coin created (1).\n",
    "- Unfair coin created with weight as specified (1)."
   ]
  },
  {
   "cell_type": "code",
   "execution_count": 17,
   "id": "55ce498e-c75f-4425-9e3e-b635bd6cd9e1",
   "metadata": {},
   "outputs": [],
   "source": [
    "import numpy as np\n",
    "\n",
    "fair_coin = Die(np.array(['H','T']))\n",
    "unfair_coin = Die(np.array(['H','T']))\n",
    "unfair_coin.change_weight('H',5)"
   ]
  },
  {
   "cell_type": "markdown",
   "id": "02b272ab-99da-4b6e-ac2a-555b73e09c07",
   "metadata": {},
   "source": [
    "Task 2. Play a game of $1000$ flips with two fair dice.\n",
    "\n",
    "- Play method called correclty and without error (1)."
   ]
  },
  {
   "cell_type": "code",
   "execution_count": 18,
   "id": "65c92601-d32d-4326-b215-74953aee27f2",
   "metadata": {},
   "outputs": [],
   "source": [
    "game = Game([fair_coin, fair_coin])\n",
    "game.play(1000)"
   ]
  },
  {
   "cell_type": "markdown",
   "id": "7d9c3dc8-22c1-4cae-81fb-d68d774a05d1",
   "metadata": {},
   "source": [
    "Task 3. Play another game (using a new Game object) of $1000$ flips, this time using two unfair dice and one fair die. For the second unfair die, you can use the same die object twice in the list of dice you pass to the Game object.\n",
    "\n",
    "- New game object created (1).\n",
    "- Play method called correclty and without error (1)."
   ]
  },
  {
   "cell_type": "code",
   "execution_count": 19,
   "id": "d4098bed-1eb2-4084-8d5e-9fda07c3be43",
   "metadata": {},
   "outputs": [],
   "source": [
    "game2 = Game([unfair_coin, unfair_coin, fair_coin])\n",
    "game2.play(1000)"
   ]
  },
  {
   "cell_type": "markdown",
   "id": "f690ebfc-fe71-4eb2-976d-7ac80ca6c23f",
   "metadata": {},
   "source": [
    "Task 4. For each game, use an Analyzer object to determine the raw frequency of jackpots — i.e. getting either all $H$s or all $T$s.\n",
    "\n",
    "- Analyzer objecs instantiated for both games (1).\n",
    "- Raw frequencies reported for both (1)."
   ]
  },
  {
   "cell_type": "code",
   "execution_count": null,
   "id": "b26b8b7e-3be7-4476-a9a4-37d97536729e",
   "metadata": {},
   "outputs": [],
   "source": []
  },
  {
   "cell_type": "markdown",
   "id": "b73d233c-445e-40cd-8858-0c5e1f097105",
   "metadata": {},
   "source": [
    "Task 5. For each analyzer, compute relative frequency as the number of jackpots over the total number of rolls.\n",
    "\n",
    "- Both relative frequencies computed (1)."
   ]
  },
  {
   "cell_type": "code",
   "execution_count": null,
   "id": "9a96b31b-1b9d-496e-be3e-4bf83c45ec3a",
   "metadata": {},
   "outputs": [],
   "source": []
  },
  {
   "cell_type": "markdown",
   "id": "a6e1e734-7f5c-4721-8ba4-2f3a424cf984",
   "metadata": {},
   "source": [
    "Task 6. Show your results, comparing the two relative frequencies, in a simple bar chart.\n",
    "\n",
    "- Bar chart plotted and correct (1)."
   ]
  },
  {
   "cell_type": "code",
   "execution_count": null,
   "id": "473fa67c-aa53-4aa3-a0b7-e8772b3f6ed3",
   "metadata": {},
   "outputs": [],
   "source": []
  },
  {
   "cell_type": "markdown",
   "id": "725cfa5b-e4b7-47c9-86aa-8d9e1fe6c8c7",
   "metadata": {},
   "source": [
    "## Scenario 2: A 6-sided Die (9)\n",
    "\n",
    "Task 1. Create three dice, each with six sides having the faces 1 through 6.\n",
    "\n",
    "- Three die objects created (1)."
   ]
  },
  {
   "cell_type": "code",
   "execution_count": null,
   "id": "6a8bc611-325a-4e05-88d5-980e0a2cf7c5",
   "metadata": {},
   "outputs": [],
   "source": []
  },
  {
   "cell_type": "markdown",
   "id": "2ed3ad26-fbe9-43bd-9ad7-f683a4191d12",
   "metadata": {},
   "source": [
    "Task 2. Convert one of the dice to an unfair one by weighting the face $6$ five times more than the other weights (i.e. it has weight of 5 and the others a weight of 1 each).\n",
    "\n",
    "- Unfair die created with proper call to weight change method (1)."
   ]
  },
  {
   "cell_type": "code",
   "execution_count": null,
   "id": "e33dd18f-7f90-456d-a680-61c08a328e21",
   "metadata": {},
   "outputs": [],
   "source": []
  },
  {
   "cell_type": "markdown",
   "id": "7f6c062a-4c5b-45b9-96b8-76a0354c7e47",
   "metadata": {},
   "source": [
    "Task 3. Convert another of the dice to be unfair by weighting the face $1$ five times more than the others.\n",
    "\n",
    "- Unfair die created with proper call to weight change method (1)."
   ]
  },
  {
   "cell_type": "code",
   "execution_count": null,
   "id": "01133a4e-6b06-4246-8d90-8e6d6995be51",
   "metadata": {},
   "outputs": [],
   "source": []
  },
  {
   "cell_type": "markdown",
   "id": "f0ed31cb-0a3c-4eb2-b85e-6ed6b2eb6e58",
   "metadata": {},
   "source": [
    "Task 4. Play a game of $10000$ rolls with $5$ fair dice.\n",
    "\n",
    "- Game class properly instantiated (1). \n",
    "- Play method called properly (1)."
   ]
  },
  {
   "cell_type": "code",
   "execution_count": null,
   "id": "e92395a4-9ed8-4cb0-8c85-38768a784ffc",
   "metadata": {},
   "outputs": [],
   "source": []
  },
  {
   "cell_type": "markdown",
   "id": "7814b402-46a4-40e5-8141-20e05c3e646b",
   "metadata": {},
   "source": [
    "Task 5. Play another game of $10000$ rolls, this time with $2$ unfair dice, one as defined in steps #2 and #3 respectively, and $3$ fair dice.\n",
    "\n",
    "- Game class properly instantiated (1). \n",
    "- Play method called properly (1)."
   ]
  },
  {
   "cell_type": "code",
   "execution_count": null,
   "id": "7cd58fba-b2a5-4d5d-bc6d-2a7a68d18c4f",
   "metadata": {},
   "outputs": [],
   "source": []
  },
  {
   "cell_type": "markdown",
   "id": "7b6cd372-2bb8-4df8-ade1-8f48bc300955",
   "metadata": {},
   "source": [
    "Task 6. For each game, use an Analyzer object to determine the relative frequency of jackpots and show your results, comparing the two relative frequencies, in a simple bar chart.\n",
    "\n",
    "- Jackpot methods called (1).\n",
    "- Graph produced (1)."
   ]
  },
  {
   "cell_type": "code",
   "execution_count": null,
   "id": "bbdcf695-8937-406e-9b53-aa0b9ee3c59a",
   "metadata": {},
   "outputs": [],
   "source": []
  },
  {
   "cell_type": "markdown",
   "id": "9f04e9be-8fcf-4ea4-a391-6614608285f8",
   "metadata": {},
   "source": [
    "## Scenario 3: Letters of the Alphabet (7)\n",
    "\n",
    "Task 1. Create a \"die\" of letters from $A$ to $Z$ with weights based on their frequency of usage as found in the data file `english_letters.txt`. Use the frequencies (i.e. raw counts) as weights.\n",
    "\n",
    "- Die correctly instantiated with source file data (1).\n",
    "- Weights properly applied using weight setting method (1)."
   ]
  },
  {
   "cell_type": "code",
   "execution_count": null,
   "id": "b0ceb771-3cdf-4d8f-8c2c-020806bbb909",
   "metadata": {},
   "outputs": [],
   "source": []
  },
  {
   "cell_type": "markdown",
   "id": "88e2e14a-6223-470a-a2c8-bca1120d7a5b",
   "metadata": {},
   "source": [
    "Task 2. Play a game involving $4$ of these dice with $1000$ rolls.\n",
    "\n",
    "- Game play method properly called (1)."
   ]
  },
  {
   "cell_type": "code",
   "execution_count": null,
   "id": "2ae087cc-936d-4f1e-bddb-a7c179d139e0",
   "metadata": {},
   "outputs": [],
   "source": []
  },
  {
   "cell_type": "markdown",
   "id": "3b9ff800-bf1f-4f66-9d7f-ff57a648e9f0",
   "metadata": {},
   "source": [
    "Task 3. Determine how many permutations in your results are actual English words, based on the vocabulary found in `scrabble_words.txt`.\n",
    "\n",
    "- Use permutation method (1).\n",
    "- Get count as difference between permutations and vocabulary (1)."
   ]
  },
  {
   "cell_type": "code",
   "execution_count": null,
   "id": "ed1c7fa0-cfa3-4cf4-9fd0-9f84b86b0f64",
   "metadata": {},
   "outputs": [],
   "source": []
  },
  {
   "cell_type": "markdown",
   "id": "fcf068cf-381a-4b3e-ac3a-0510eb4dbdb0",
   "metadata": {},
   "source": [
    "Task 4. Repeat steps #2 and #3, this time with $5$ dice. How many actual words does this produce? Which produces more?\n",
    "\n",
    "- Successfully repreats steps (1).\n",
    "- Identifies parameter with most found words (1)."
   ]
  }
 ],
 "metadata": {
  "kernelspec": {
   "display_name": "Python 3",
   "language": "python",
   "name": "python3"
  },
  "language_info": {
   "codemirror_mode": {
    "name": "ipython",
    "version": 3
   },
   "file_extension": ".py",
   "mimetype": "text/x-python",
   "name": "python",
   "nbconvert_exporter": "python",
   "pygments_lexer": "ipython3",
   "version": "3.8.3"
  },
  "toc-autonumbering": true,
  "widgets": {
   "application/vnd.jupyter.widget-state+json": {
    "state": {},
    "version_major": 2,
    "version_minor": 0
   }
  }
 },
 "nbformat": 4,
 "nbformat_minor": 5
}
